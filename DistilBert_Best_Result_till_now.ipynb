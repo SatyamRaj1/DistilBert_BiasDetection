{
  "cells": [
    {
      "cell_type": "code",
      "execution_count": null,
      "metadata": {
        "id": "-v476Ipbjopj"
      },
      "outputs": [],
      "source": [
        "# Importing necessary libraries\n",
        "import os\n",
        "import numpy as np\n",
        "import pandas as pd\n",
        "import matplotlib.pyplot as plt\n",
        "import re\n",
        "import torch"
      ]
    },
    {
      "cell_type": "code",
      "execution_count": null,
      "metadata": {
        "id": "u-97x3C3kDDG"
      },
      "outputs": [],
      "source": [
        "\n"
      ]
    },
    {
      "cell_type": "code",
      "execution_count": null,
      "metadata": {
        "id": "EHMXig_zjXqB"
      },
      "outputs": [],
      "source": [
        "# os.chdir(\"/content/drive/MyDrive/Colab Notebooks/ToxicBias\")"
      ]
    },
    {
      "cell_type": "code",
      "execution_count": null,
      "metadata": {
        "id": "uPVets7skJV-"
      },
      "outputs": [],
      "source": [
        "Train = pd.read_csv(\"Train.csv\", usecols = ['text', 'bias', 'race', 'religion', 'lgbtq', 'gender', 'political'], index_col = False)\n",
        "Test = pd.read_csv(\"Test.csv\", usecols = ['text', 'bias', 'race', 'religion', 'lgbtq', 'gender', 'political'], index_col = False)\n",
        "Val = pd.read_csv(\"Val.csv\", usecols = ['text', 'bias', 'race', 'religion', 'lgbtq', 'gender', 'political'], index_col = False)\n"
      ]
    },
    {
      "cell_type": "code",
      "execution_count": null,
      "metadata": {
        "id": "MDLJRymdl6ub"
      },
      "outputs": [],
      "source": [
        "data = pd.concat([Train, Test, Val])"
      ]
    },
    {
      "cell_type": "code",
      "execution_count": null,
      "metadata": {
        "colab": {
          "base_uri": "https://localhost:8080/"
        },
        "id": "Z7JhUtKOc6na",
        "outputId": "4845309e-56c9-4fd0-957a-847175ff439c"
      },
      "outputs": [
        {
          "data": {
            "text/plain": [
              "(10412, 7)"
            ]
          },
          "execution_count": 72,
          "metadata": {},
          "output_type": "execute_result"
        }
      ],
      "source": [
        "data.shape"
      ]
    },
    {
      "cell_type": "code",
      "execution_count": null,
      "metadata": {
        "id": "wOZ4qg3qd1Ne"
      },
      "outputs": [],
      "source": [
        "# def modifyDF(df):\n",
        "  # newCol = ['race', 'gender', 'religion', 'lgbtq', 'political']\n",
        "  # for col in newCol:\n",
        "  #   df[col] = df.iloc[:, 2].apply(lambda x: 1 if col in x else 0)\n",
        "data['bias'] = data['bias'].apply(lambda x: 0 if x==1 else 1)\n",
        "data.rename(columns = {'bias': 'non_bias', 'text':'comment_text'}, inplace = True)\n"
      ]
    },
    {
      "cell_type": "code",
      "execution_count": null,
      "metadata": {
        "id": "zuIqzm4Eecm1"
      },
      "outputs": [],
      "source": [
        "# modifyDF(data)\n",
        "# modifyDF(Test)\n",
        "# modifyDF(Val)"
      ]
    },
    {
      "cell_type": "code",
      "execution_count": null,
      "metadata": {
        "id": "aa9MKnTjdMUj"
      },
      "outputs": [],
      "source": [
        "# data"
      ]
    },
    {
      "cell_type": "code",
      "execution_count": null,
      "metadata": {
        "colab": {
          "base_uri": "https://localhost:8080/"
        },
        "id": "s9SfCHLBgK_h",
        "outputId": "ab7efa9d-009d-4a77-c724-560a7278823d"
      },
      "outputs": [
        {
          "name": "stdout",
          "output_type": "stream",
          "text": [
            "non_bias : 6087\n",
            "\n",
            "race : 2202\n",
            "\n",
            "religion : 1573\n",
            "\n",
            "gender : 358\n",
            "\n",
            "lgbtq : 576\n",
            "\n",
            "political : 218\n",
            "\n"
          ]
        }
      ],
      "source": [
        "Total_of_Class = {}                   # Total labeled comments from each class\n",
        "for col in data.iloc[:,1:].columns:\n",
        "    Total_of_Class[col] = data[col].value_counts()[1]\n",
        "    print(f\"{col} : {Total_of_Class[col]}\\n\")"
      ]
    },
    {
      "cell_type": "code",
      "execution_count": null,
      "metadata": {
        "colab": {
          "base_uri": "https://localhost:8080/",
          "height": 423
        },
        "id": "1ryLNfvTgffP",
        "outputId": "7e14e87c-8da8-4b4e-e05f-95f0d180f729"
      },
      "outputs": [
        {
          "data": {
            "application/vnd.google.colaboratory.intrinsic+json": {
              "summary": "{\n  \"name\": \"data\",\n  \"rows\": 10412,\n  \"fields\": [\n    {\n      \"column\": \"comment_text\",\n      \"properties\": {\n        \"dtype\": \"string\",\n        \"num_unique_values\": 10405,\n        \"samples\": [\n          \"Im not sure I see a pattern of racial discrimination in favor of black people in this country.  Do you have any studies that dont include cherrypicked items?\",\n          \"I've never heard of a woman being a 'bitch' for wanting a stable income. I think you are confusing the meaning of these words.\",\n          \"Because everywhere the Muslims go  the whining and complaining starts.  And the useful idiots keep on accommodating themlook at Sweden  All they need is to get one toe in the door.\"\n        ],\n        \"semantic_type\": \"\",\n        \"description\": \"\"\n      }\n    },\n    {\n      \"column\": \"non_bias\",\n      \"properties\": {\n        \"dtype\": \"number\",\n        \"std\": 0,\n        \"min\": 0,\n        \"max\": 1,\n        \"num_unique_values\": 2,\n        \"samples\": [\n          1,\n          0\n        ],\n        \"semantic_type\": \"\",\n        \"description\": \"\"\n      }\n    },\n    {\n      \"column\": \"race\",\n      \"properties\": {\n        \"dtype\": \"number\",\n        \"std\": 0,\n        \"min\": 0,\n        \"max\": 1,\n        \"num_unique_values\": 2,\n        \"samples\": [\n          0,\n          1\n        ],\n        \"semantic_type\": \"\",\n        \"description\": \"\"\n      }\n    },\n    {\n      \"column\": \"religion\",\n      \"properties\": {\n        \"dtype\": \"number\",\n        \"std\": 0,\n        \"min\": 0,\n        \"max\": 1,\n        \"num_unique_values\": 2,\n        \"samples\": [\n          1,\n          0\n        ],\n        \"semantic_type\": \"\",\n        \"description\": \"\"\n      }\n    },\n    {\n      \"column\": \"gender\",\n      \"properties\": {\n        \"dtype\": \"number\",\n        \"std\": 0,\n        \"min\": 0,\n        \"max\": 1,\n        \"num_unique_values\": 2,\n        \"samples\": [\n          0,\n          1\n        ],\n        \"semantic_type\": \"\",\n        \"description\": \"\"\n      }\n    },\n    {\n      \"column\": \"lgbtq\",\n      \"properties\": {\n        \"dtype\": \"number\",\n        \"std\": 0,\n        \"min\": 0,\n        \"max\": 1,\n        \"num_unique_values\": 2,\n        \"samples\": [\n          1,\n          0\n        ],\n        \"semantic_type\": \"\",\n        \"description\": \"\"\n      }\n    },\n    {\n      \"column\": \"political\",\n      \"properties\": {\n        \"dtype\": \"number\",\n        \"std\": 0,\n        \"min\": 0,\n        \"max\": 1,\n        \"num_unique_values\": 2,\n        \"samples\": [\n          1,\n          0\n        ],\n        \"semantic_type\": \"\",\n        \"description\": \"\"\n      }\n    },\n    {\n      \"column\": \"total_classes\",\n      \"properties\": {\n        \"dtype\": \"number\",\n        \"std\": 0,\n        \"min\": 0,\n        \"max\": 3,\n        \"num_unique_values\": 4,\n        \"samples\": [\n          1,\n          3\n        ],\n        \"semantic_type\": \"\",\n        \"description\": \"\"\n      }\n    }\n  ]\n}",
              "type": "dataframe",
              "variable_name": "data"
            },
            "text/html": [
              "\n",
              "  <div id=\"df-7f01d3f5-1159-4794-88e5-54310784cfa1\" class=\"colab-df-container\">\n",
              "    <div>\n",
              "<style scoped>\n",
              "    .dataframe tbody tr th:only-of-type {\n",
              "        vertical-align: middle;\n",
              "    }\n",
              "\n",
              "    .dataframe tbody tr th {\n",
              "        vertical-align: top;\n",
              "    }\n",
              "\n",
              "    .dataframe thead th {\n",
              "        text-align: right;\n",
              "    }\n",
              "</style>\n",
              "<table border=\"1\" class=\"dataframe\">\n",
              "  <thead>\n",
              "    <tr style=\"text-align: right;\">\n",
              "      <th></th>\n",
              "      <th>comment_text</th>\n",
              "      <th>non_bias</th>\n",
              "      <th>race</th>\n",
              "      <th>religion</th>\n",
              "      <th>gender</th>\n",
              "      <th>lgbtq</th>\n",
              "      <th>political</th>\n",
              "      <th>total_classes</th>\n",
              "    </tr>\n",
              "  </thead>\n",
              "  <tbody>\n",
              "    <tr>\n",
              "      <th>0</th>\n",
              "      <td>We are still having their water put at risk in...</td>\n",
              "      <td>0</td>\n",
              "      <td>1</td>\n",
              "      <td>0</td>\n",
              "      <td>1</td>\n",
              "      <td>0</td>\n",
              "      <td>0</td>\n",
              "      <td>2</td>\n",
              "    </tr>\n",
              "    <tr>\n",
              "      <th>1</th>\n",
              "      <td>This whole tragedy is the face and body and ph...</td>\n",
              "      <td>0</td>\n",
              "      <td>0</td>\n",
              "      <td>1</td>\n",
              "      <td>0</td>\n",
              "      <td>0</td>\n",
              "      <td>0</td>\n",
              "      <td>1</td>\n",
              "    </tr>\n",
              "    <tr>\n",
              "      <th>2</th>\n",
              "      <td>Black on black killings.  Stop this madness ma...</td>\n",
              "      <td>0</td>\n",
              "      <td>1</td>\n",
              "      <td>0</td>\n",
              "      <td>0</td>\n",
              "      <td>0</td>\n",
              "      <td>0</td>\n",
              "      <td>1</td>\n",
              "    </tr>\n",
              "    <tr>\n",
              "      <th>3</th>\n",
              "      <td>The world would be at peace with out islam.</td>\n",
              "      <td>0</td>\n",
              "      <td>0</td>\n",
              "      <td>1</td>\n",
              "      <td>0</td>\n",
              "      <td>0</td>\n",
              "      <td>0</td>\n",
              "      <td>1</td>\n",
              "    </tr>\n",
              "    <tr>\n",
              "      <th>4</th>\n",
              "      <td>Another Muslim commits a terrorist act and dem...</td>\n",
              "      <td>0</td>\n",
              "      <td>0</td>\n",
              "      <td>1</td>\n",
              "      <td>0</td>\n",
              "      <td>0</td>\n",
              "      <td>0</td>\n",
              "      <td>1</td>\n",
              "    </tr>\n",
              "    <tr>\n",
              "      <th>...</th>\n",
              "      <td>...</td>\n",
              "      <td>...</td>\n",
              "      <td>...</td>\n",
              "      <td>...</td>\n",
              "      <td>...</td>\n",
              "      <td>...</td>\n",
              "      <td>...</td>\n",
              "      <td>...</td>\n",
              "    </tr>\n",
              "    <tr>\n",
              "      <th>827</th>\n",
              "      <td>According to evolutionary theory, all human be...</td>\n",
              "      <td>1</td>\n",
              "      <td>0</td>\n",
              "      <td>0</td>\n",
              "      <td>0</td>\n",
              "      <td>0</td>\n",
              "      <td>0</td>\n",
              "      <td>1</td>\n",
              "    </tr>\n",
              "    <tr>\n",
              "      <th>828</th>\n",
              "      <td>There are certainly some dangerous people with...</td>\n",
              "      <td>1</td>\n",
              "      <td>0</td>\n",
              "      <td>0</td>\n",
              "      <td>0</td>\n",
              "      <td>0</td>\n",
              "      <td>0</td>\n",
              "      <td>1</td>\n",
              "    </tr>\n",
              "    <tr>\n",
              "      <th>829</th>\n",
              "      <td>The Muslims have been part of this country sin...</td>\n",
              "      <td>1</td>\n",
              "      <td>0</td>\n",
              "      <td>0</td>\n",
              "      <td>0</td>\n",
              "      <td>0</td>\n",
              "      <td>0</td>\n",
              "      <td>1</td>\n",
              "    </tr>\n",
              "    <tr>\n",
              "      <th>830</th>\n",
              "      <td>Muslims live in many countries all over the wo...</td>\n",
              "      <td>1</td>\n",
              "      <td>0</td>\n",
              "      <td>0</td>\n",
              "      <td>0</td>\n",
              "      <td>0</td>\n",
              "      <td>0</td>\n",
              "      <td>1</td>\n",
              "    </tr>\n",
              "    <tr>\n",
              "      <th>831</th>\n",
              "      <td>British citizens have the right to be free in ...</td>\n",
              "      <td>1</td>\n",
              "      <td>0</td>\n",
              "      <td>0</td>\n",
              "      <td>0</td>\n",
              "      <td>0</td>\n",
              "      <td>0</td>\n",
              "      <td>1</td>\n",
              "    </tr>\n",
              "  </tbody>\n",
              "</table>\n",
              "<p>10412 rows × 8 columns</p>\n",
              "</div>\n",
              "    <div class=\"colab-df-buttons\">\n",
              "\n",
              "  <div class=\"colab-df-container\">\n",
              "    <button class=\"colab-df-convert\" onclick=\"convertToInteractive('df-7f01d3f5-1159-4794-88e5-54310784cfa1')\"\n",
              "            title=\"Convert this dataframe to an interactive table.\"\n",
              "            style=\"display:none;\">\n",
              "\n",
              "  <svg xmlns=\"http://www.w3.org/2000/svg\" height=\"24px\" viewBox=\"0 -960 960 960\">\n",
              "    <path d=\"M120-120v-720h720v720H120Zm60-500h600v-160H180v160Zm220 220h160v-160H400v160Zm0 220h160v-160H400v160ZM180-400h160v-160H180v160Zm440 0h160v-160H620v160ZM180-180h160v-160H180v160Zm440 0h160v-160H620v160Z\"/>\n",
              "  </svg>\n",
              "    </button>\n",
              "\n",
              "  <style>\n",
              "    .colab-df-container {\n",
              "      display:flex;\n",
              "      gap: 12px;\n",
              "    }\n",
              "\n",
              "    .colab-df-convert {\n",
              "      background-color: #E8F0FE;\n",
              "      border: none;\n",
              "      border-radius: 50%;\n",
              "      cursor: pointer;\n",
              "      display: none;\n",
              "      fill: #1967D2;\n",
              "      height: 32px;\n",
              "      padding: 0 0 0 0;\n",
              "      width: 32px;\n",
              "    }\n",
              "\n",
              "    .colab-df-convert:hover {\n",
              "      background-color: #E2EBFA;\n",
              "      box-shadow: 0px 1px 2px rgba(60, 64, 67, 0.3), 0px 1px 3px 1px rgba(60, 64, 67, 0.15);\n",
              "      fill: #174EA6;\n",
              "    }\n",
              "\n",
              "    .colab-df-buttons div {\n",
              "      margin-bottom: 4px;\n",
              "    }\n",
              "\n",
              "    [theme=dark] .colab-df-convert {\n",
              "      background-color: #3B4455;\n",
              "      fill: #D2E3FC;\n",
              "    }\n",
              "\n",
              "    [theme=dark] .colab-df-convert:hover {\n",
              "      background-color: #434B5C;\n",
              "      box-shadow: 0px 1px 3px 1px rgba(0, 0, 0, 0.15);\n",
              "      filter: drop-shadow(0px 1px 2px rgba(0, 0, 0, 0.3));\n",
              "      fill: #FFFFFF;\n",
              "    }\n",
              "  </style>\n",
              "\n",
              "    <script>\n",
              "      const buttonEl =\n",
              "        document.querySelector('#df-7f01d3f5-1159-4794-88e5-54310784cfa1 button.colab-df-convert');\n",
              "      buttonEl.style.display =\n",
              "        google.colab.kernel.accessAllowed ? 'block' : 'none';\n",
              "\n",
              "      async function convertToInteractive(key) {\n",
              "        const element = document.querySelector('#df-7f01d3f5-1159-4794-88e5-54310784cfa1');\n",
              "        const dataTable =\n",
              "          await google.colab.kernel.invokeFunction('convertToInteractive',\n",
              "                                                    [key], {});\n",
              "        if (!dataTable) return;\n",
              "\n",
              "        const docLinkHtml = 'Like what you see? Visit the ' +\n",
              "          '<a target=\"_blank\" href=https://colab.research.google.com/notebooks/data_table.ipynb>data table notebook</a>'\n",
              "          + ' to learn more about interactive tables.';\n",
              "        element.innerHTML = '';\n",
              "        dataTable['output_type'] = 'display_data';\n",
              "        await google.colab.output.renderOutput(dataTable, element);\n",
              "        const docLink = document.createElement('div');\n",
              "        docLink.innerHTML = docLinkHtml;\n",
              "        element.appendChild(docLink);\n",
              "      }\n",
              "    </script>\n",
              "  </div>\n",
              "\n",
              "\n",
              "<div id=\"df-1264da55-74ff-48dd-ac4f-fe0185eacb39\">\n",
              "  <button class=\"colab-df-quickchart\" onclick=\"quickchart('df-1264da55-74ff-48dd-ac4f-fe0185eacb39')\"\n",
              "            title=\"Suggest charts\"\n",
              "            style=\"display:none;\">\n",
              "\n",
              "<svg xmlns=\"http://www.w3.org/2000/svg\" height=\"24px\"viewBox=\"0 0 24 24\"\n",
              "     width=\"24px\">\n",
              "    <g>\n",
              "        <path d=\"M19 3H5c-1.1 0-2 .9-2 2v14c0 1.1.9 2 2 2h14c1.1 0 2-.9 2-2V5c0-1.1-.9-2-2-2zM9 17H7v-7h2v7zm4 0h-2V7h2v10zm4 0h-2v-4h2v4z\"/>\n",
              "    </g>\n",
              "</svg>\n",
              "  </button>\n",
              "\n",
              "<style>\n",
              "  .colab-df-quickchart {\n",
              "      --bg-color: #E8F0FE;\n",
              "      --fill-color: #1967D2;\n",
              "      --hover-bg-color: #E2EBFA;\n",
              "      --hover-fill-color: #174EA6;\n",
              "      --disabled-fill-color: #AAA;\n",
              "      --disabled-bg-color: #DDD;\n",
              "  }\n",
              "\n",
              "  [theme=dark] .colab-df-quickchart {\n",
              "      --bg-color: #3B4455;\n",
              "      --fill-color: #D2E3FC;\n",
              "      --hover-bg-color: #434B5C;\n",
              "      --hover-fill-color: #FFFFFF;\n",
              "      --disabled-bg-color: #3B4455;\n",
              "      --disabled-fill-color: #666;\n",
              "  }\n",
              "\n",
              "  .colab-df-quickchart {\n",
              "    background-color: var(--bg-color);\n",
              "    border: none;\n",
              "    border-radius: 50%;\n",
              "    cursor: pointer;\n",
              "    display: none;\n",
              "    fill: var(--fill-color);\n",
              "    height: 32px;\n",
              "    padding: 0;\n",
              "    width: 32px;\n",
              "  }\n",
              "\n",
              "  .colab-df-quickchart:hover {\n",
              "    background-color: var(--hover-bg-color);\n",
              "    box-shadow: 0 1px 2px rgba(60, 64, 67, 0.3), 0 1px 3px 1px rgba(60, 64, 67, 0.15);\n",
              "    fill: var(--button-hover-fill-color);\n",
              "  }\n",
              "\n",
              "  .colab-df-quickchart-complete:disabled,\n",
              "  .colab-df-quickchart-complete:disabled:hover {\n",
              "    background-color: var(--disabled-bg-color);\n",
              "    fill: var(--disabled-fill-color);\n",
              "    box-shadow: none;\n",
              "  }\n",
              "\n",
              "  .colab-df-spinner {\n",
              "    border: 2px solid var(--fill-color);\n",
              "    border-color: transparent;\n",
              "    border-bottom-color: var(--fill-color);\n",
              "    animation:\n",
              "      spin 1s steps(1) infinite;\n",
              "  }\n",
              "\n",
              "  @keyframes spin {\n",
              "    0% {\n",
              "      border-color: transparent;\n",
              "      border-bottom-color: var(--fill-color);\n",
              "      border-left-color: var(--fill-color);\n",
              "    }\n",
              "    20% {\n",
              "      border-color: transparent;\n",
              "      border-left-color: var(--fill-color);\n",
              "      border-top-color: var(--fill-color);\n",
              "    }\n",
              "    30% {\n",
              "      border-color: transparent;\n",
              "      border-left-color: var(--fill-color);\n",
              "      border-top-color: var(--fill-color);\n",
              "      border-right-color: var(--fill-color);\n",
              "    }\n",
              "    40% {\n",
              "      border-color: transparent;\n",
              "      border-right-color: var(--fill-color);\n",
              "      border-top-color: var(--fill-color);\n",
              "    }\n",
              "    60% {\n",
              "      border-color: transparent;\n",
              "      border-right-color: var(--fill-color);\n",
              "    }\n",
              "    80% {\n",
              "      border-color: transparent;\n",
              "      border-right-color: var(--fill-color);\n",
              "      border-bottom-color: var(--fill-color);\n",
              "    }\n",
              "    90% {\n",
              "      border-color: transparent;\n",
              "      border-bottom-color: var(--fill-color);\n",
              "    }\n",
              "  }\n",
              "</style>\n",
              "\n",
              "  <script>\n",
              "    async function quickchart(key) {\n",
              "      const quickchartButtonEl =\n",
              "        document.querySelector('#' + key + ' button');\n",
              "      quickchartButtonEl.disabled = true;  // To prevent multiple clicks.\n",
              "      quickchartButtonEl.classList.add('colab-df-spinner');\n",
              "      try {\n",
              "        const charts = await google.colab.kernel.invokeFunction(\n",
              "            'suggestCharts', [key], {});\n",
              "      } catch (error) {\n",
              "        console.error('Error during call to suggestCharts:', error);\n",
              "      }\n",
              "      quickchartButtonEl.classList.remove('colab-df-spinner');\n",
              "      quickchartButtonEl.classList.add('colab-df-quickchart-complete');\n",
              "    }\n",
              "    (() => {\n",
              "      let quickchartButtonEl =\n",
              "        document.querySelector('#df-1264da55-74ff-48dd-ac4f-fe0185eacb39 button');\n",
              "      quickchartButtonEl.style.display =\n",
              "        google.colab.kernel.accessAllowed ? 'block' : 'none';\n",
              "    })();\n",
              "  </script>\n",
              "</div>\n",
              "\n",
              "  <div id=\"id_935332de-68f1-4bea-9ec1-f938ae0bcf0e\">\n",
              "    <style>\n",
              "      .colab-df-generate {\n",
              "        background-color: #E8F0FE;\n",
              "        border: none;\n",
              "        border-radius: 50%;\n",
              "        cursor: pointer;\n",
              "        display: none;\n",
              "        fill: #1967D2;\n",
              "        height: 32px;\n",
              "        padding: 0 0 0 0;\n",
              "        width: 32px;\n",
              "      }\n",
              "\n",
              "      .colab-df-generate:hover {\n",
              "        background-color: #E2EBFA;\n",
              "        box-shadow: 0px 1px 2px rgba(60, 64, 67, 0.3), 0px 1px 3px 1px rgba(60, 64, 67, 0.15);\n",
              "        fill: #174EA6;\n",
              "      }\n",
              "\n",
              "      [theme=dark] .colab-df-generate {\n",
              "        background-color: #3B4455;\n",
              "        fill: #D2E3FC;\n",
              "      }\n",
              "\n",
              "      [theme=dark] .colab-df-generate:hover {\n",
              "        background-color: #434B5C;\n",
              "        box-shadow: 0px 1px 3px 1px rgba(0, 0, 0, 0.15);\n",
              "        filter: drop-shadow(0px 1px 2px rgba(0, 0, 0, 0.3));\n",
              "        fill: #FFFFFF;\n",
              "      }\n",
              "    </style>\n",
              "    <button class=\"colab-df-generate\" onclick=\"generateWithVariable('data')\"\n",
              "            title=\"Generate code using this dataframe.\"\n",
              "            style=\"display:none;\">\n",
              "\n",
              "  <svg xmlns=\"http://www.w3.org/2000/svg\" height=\"24px\"viewBox=\"0 0 24 24\"\n",
              "       width=\"24px\">\n",
              "    <path d=\"M7,19H8.4L18.45,9,17,7.55,7,17.6ZM5,21V16.75L18.45,3.32a2,2,0,0,1,2.83,0l1.4,1.43a1.91,1.91,0,0,1,.58,1.4,1.91,1.91,0,0,1-.58,1.4L9.25,21ZM18.45,9,17,7.55Zm-12,3A5.31,5.31,0,0,0,4.9,8.1,5.31,5.31,0,0,0,1,6.5,5.31,5.31,0,0,0,4.9,4.9,5.31,5.31,0,0,0,6.5,1,5.31,5.31,0,0,0,8.1,4.9,5.31,5.31,0,0,0,12,6.5,5.46,5.46,0,0,0,6.5,12Z\"/>\n",
              "  </svg>\n",
              "    </button>\n",
              "    <script>\n",
              "      (() => {\n",
              "      const buttonEl =\n",
              "        document.querySelector('#id_935332de-68f1-4bea-9ec1-f938ae0bcf0e button.colab-df-generate');\n",
              "      buttonEl.style.display =\n",
              "        google.colab.kernel.accessAllowed ? 'block' : 'none';\n",
              "\n",
              "      buttonEl.onclick = () => {\n",
              "        google.colab.notebook.generateWithVariable('data');\n",
              "      }\n",
              "      })();\n",
              "    </script>\n",
              "  </div>\n",
              "\n",
              "    </div>\n",
              "  </div>\n"
            ],
            "text/plain": [
              "                                          comment_text  non_bias  race  \\\n",
              "0    We are still having their water put at risk in...         0     1   \n",
              "1    This whole tragedy is the face and body and ph...         0     0   \n",
              "2    Black on black killings.  Stop this madness ma...         0     1   \n",
              "3          The world would be at peace with out islam.         0     0   \n",
              "4    Another Muslim commits a terrorist act and dem...         0     0   \n",
              "..                                                 ...       ...   ...   \n",
              "827  According to evolutionary theory, all human be...         1     0   \n",
              "828  There are certainly some dangerous people with...         1     0   \n",
              "829  The Muslims have been part of this country sin...         1     0   \n",
              "830  Muslims live in many countries all over the wo...         1     0   \n",
              "831  British citizens have the right to be free in ...         1     0   \n",
              "\n",
              "     religion  gender  lgbtq  political  total_classes  \n",
              "0           0       1      0          0              2  \n",
              "1           1       0      0          0              1  \n",
              "2           0       0      0          0              1  \n",
              "3           1       0      0          0              1  \n",
              "4           1       0      0          0              1  \n",
              "..        ...     ...    ...        ...            ...  \n",
              "827         0       0      0          0              1  \n",
              "828         0       0      0          0              1  \n",
              "829         0       0      0          0              1  \n",
              "830         0       0      0          0              1  \n",
              "831         0       0      0          0              1  \n",
              "\n",
              "[10412 rows x 8 columns]"
            ]
          },
          "execution_count": 77,
          "metadata": {},
          "output_type": "execute_result"
        }
      ],
      "source": [
        "# creating new column named \"total_classes\" which will show total no. of classes comment belongs to\n",
        "\n",
        "data[\"total_classes\"] = data.iloc[:,1:6].apply(lambda x: sum(x), axis=1)    # if we take sum of all labels we can tell how many classes comment belong to\n",
        "data                                                                        # for ex. if comment belongs to \"race\" and \"gender\" then the sum will be 2"
      ]
    },
    {
      "cell_type": "code",
      "execution_count": null,
      "metadata": {
        "colab": {
          "base_uri": "https://localhost:8080/"
        },
        "id": "fkjdUAKyh4eX",
        "outputId": "555100da-8de0-4e24-f683-ff8475103f8e"
      },
      "outputs": [
        {
          "data": {
            "text/plain": [
              "{2: 434, 1: 9829, 0: 116, 3: 33}"
            ]
          },
          "execution_count": 78,
          "metadata": {},
          "output_type": "execute_result"
        }
      ],
      "source": [
        "multi_label_total = {}\n",
        "for value in data[\"total_classes\"].unique():\n",
        "    multi_label_total[value] = data[\"total_classes\"].value_counts()[value]\n",
        "multi_label_total"
      ]
    },
    {
      "cell_type": "code",
      "execution_count": null,
      "metadata": {
        "id": "Tjylg0phiQvU"
      },
      "outputs": [],
      "source": [
        "# copying our dataset in new variable for further text preprocessing\n",
        "new_data = data.copy()"
      ]
    },
    {
      "cell_type": "code",
      "execution_count": null,
      "metadata": {
        "id": "1BcD-4s4ibXM"
      },
      "outputs": [],
      "source": [
        "import re"
      ]
    },
    {
      "cell_type": "code",
      "execution_count": null,
      "metadata": {
        "colab": {
          "base_uri": "https://localhost:8080/"
        },
        "id": "yYXmo2qKiTBX",
        "outputId": "1566dbc7-cbe0-4978-b7bb-38a5d2ee1ae2"
      },
      "outputs": [
        {
          "name": "stdout",
          "output_type": "stream",
          "text": [
            "629    the real victims are the women. Yes because th...\n",
            "629    You leftist rag doesnt deserve this good of a ...\n",
            "629    There is no point in insulting someone for bei...\n",
            "Name: comment_text, dtype: object \n",
            "\n",
            "\n",
            "++++ After Removing URLs ++++\n",
            "\n",
            " \n",
            "629    the real victims are the women. Yes because th...\n",
            "629    You leftist rag doesnt deserve this good of a ...\n",
            "629    There is no point in insulting someone for bei...\n",
            "Name: comment_text, dtype: object\n"
          ]
        }
      ],
      "source": [
        "# creating copy of data for data cleaning and preprocessing\n",
        "cleaned_data = new_data.copy()\n",
        "\n",
        "# Removing Hyperlinks from text\n",
        "\n",
        "cleaned_data[\"comment_text\"] = cleaned_data[\"comment_text\"].map(lambda x: re.sub(r\"https?://\\S+|www\\.\\S+\",\"\",x) )\n",
        "\n",
        "print(data.loc[629,\"comment_text\"],\"\\n\\n\")\n",
        "print(\"++++ After Removing URLs ++++\\n\\n \")\n",
        "print(cleaned_data.loc[629,\"comment_text\"])"
      ]
    },
    {
      "cell_type": "code",
      "execution_count": null,
      "metadata": {
        "colab": {
          "base_uri": "https://localhost:8080/"
        },
        "id": "1_LR20Cbiivy",
        "outputId": "37eb5655-4955-46b0-f63b-b69d424c7967"
      },
      "outputs": [
        {
          "name": "stdout",
          "output_type": "stream",
          "text": [
            "728    LMAO Im sure christian nutjobs praying in isla...\n",
            "728    Islam is a religion of equality and human righ...\n",
            "728    The fact that a person may be disabled does no...\n",
            "Name: comment_text, dtype: object \n",
            "\n",
            "\n",
            "++++ After Removing Emojis ++++\n",
            "\n",
            " \n",
            "728    LMAO Im sure christian nutjobs praying in isla...\n",
            "728    Islam is a religion of equality and human righ...\n",
            "728    The fact that a person may be disabled does no...\n",
            "Name: comment_text, dtype: object\n"
          ]
        }
      ],
      "source": [
        "# Rmoving emojis from text\n",
        "cleaned_data[\"comment_text\"] = cleaned_data[\"comment_text\"].map(lambda x: re.sub(\"[\"\n",
        "                                                                                   u\"\\U0001F600-\\U0001F64F\"\n",
        "                                                                                   u\"\\U0001F300-\\U0001F5FF\"\n",
        "                                                                                   u\"\\U0001F680-\\U0001F6FF\"\n",
        "                                                                                   u\"\\U0001F1E0-\\U0001F1FF\"\n",
        "                                                                                   u\"\\U00002702-\\U000027B0\"\n",
        "                                                                                   u\"\\U000024C2-\\U0001F251\"\n",
        "                                                                                   \"]+\",\"\", x, flags=re.UNICODE))\n",
        "\n",
        "print(data.loc[728,\"comment_text\"],\"\\n\\n\")\n",
        "print(\"++++ After Removing Emojis ++++\\n\\n \")\n",
        "print(cleaned_data.loc[728,\"comment_text\"])"
      ]
    },
    {
      "cell_type": "code",
      "execution_count": null,
      "metadata": {
        "colab": {
          "base_uri": "https://localhost:8080/"
        },
        "id": "ziAOZ0fGiuPS",
        "outputId": "c2a1cc77-4391-4ed9-f7f1-df50b9da95dc"
      },
      "outputs": [
        {
          "name": "stdout",
          "output_type": "stream",
          "text": [
            "744    Cubans have less class than Mexicans which mea...\n",
            "744    What? Who said that? Don't tell me \"Someone sa...\n",
            "744    The majority of Gypsy workers are proud and ha...\n",
            "Name: comment_text, dtype: object \n",
            "\n",
            "\n",
            "++++ After Removing IP addresses ++++\n",
            "\n",
            " \n",
            "744    Cubans have less class than Mexicans which mea...\n",
            "744    What? Who said that? Don't tell me \"Someone sa...\n",
            "744    The majority of Gypsy workers are proud and ha...\n",
            "Name: comment_text, dtype: object\n"
          ]
        }
      ],
      "source": [
        "# Removing IP addresses from text\n",
        "cleaned_data[\"comment_text\"] = cleaned_data[\"comment_text\"].map(lambda x: re.sub(r\"\\d{1,3}\\.\\d{1,3}\\.\\d{1,3}\\.\\d{1,3}\",\"\",x))\n",
        "\n",
        "print(data.loc[744,\"comment_text\"],\"\\n\\n\")\n",
        "print(\"++++ After Removing IP addresses ++++\\n\\n \")\n",
        "print(cleaned_data.loc[744,\"comment_text\"])"
      ]
    },
    {
      "cell_type": "code",
      "execution_count": null,
      "metadata": {
        "id": "AX7L8TFoixie"
      },
      "outputs": [],
      "source": [
        "# # matches of css style,class elements and attributes\n",
        "# idxs_css = []\n",
        "# for i in  range(len(cleaned_data)):\n",
        "#     if re.findall(r\"[{][|].+\\n\",cleaned_data.loc[i,\"comment_text\"]):\n",
        "#         idxs_css.append(i)\n",
        "# print(f\"length of css style elements containing comments : {len(idxs_css)}\")\n",
        "\n",
        "# # Comments Containing Css style, class and attributes\n",
        "# ct=0\n",
        "# for i in idxs_css:\n",
        "#     ct += 1\n",
        "#     if ct>5:\n",
        "#         break\n",
        "#     st = cleaned_data.loc[i,\"comment_text\"]\n",
        "#     print(f\"Comment No.{i} :\\n\\n{st}\")\n",
        "#     print(\"---------------------------------------------------------------------------------------------------------------\\n\\n\")"
      ]
    },
    {
      "cell_type": "code",
      "execution_count": null,
      "metadata": {
        "id": "Z8XtK7icjBI5"
      },
      "outputs": [],
      "source": [
        "# cleaned_data.loc[idxs_css,\"total_classes\"].value_counts()    # total css style labeled comments"
      ]
    },
    {
      "cell_type": "code",
      "execution_count": null,
      "metadata": {
        "id": "5NceQqcHjKAG"
      },
      "outputs": [],
      "source": [
        "# Removing html tags from text\n",
        "cleaned_data[\"comment_text\"] = cleaned_data[\"comment_text\"].map(lambda x: re.sub(r\"<.*?>\",\"\",x))"
      ]
    },
    {
      "cell_type": "code",
      "execution_count": null,
      "metadata": {
        "colab": {
          "base_uri": "https://localhost:8080/"
        },
        "id": "Gg9ashbwjLFl",
        "outputId": "09f51a57-706b-422a-ec59-8494d9dcf22b"
      },
      "outputs": [
        {
          "name": "stdout",
          "output_type": "stream",
          "text": [
            "15    PROGRESSIVES are a CLEAR and PRESENT DANGER to...\n",
            "15    Actually its a genderneutral practice.   Same ...\n",
            "15    A recruit dies after falling off a building be...\n",
            "Name: comment_text, dtype: object \n",
            "\n",
            "\n",
            "++++ After Removing double quotation ++++\n",
            "\n",
            " \n",
            "15    PROGRESSIVES are a CLEAR and PRESENT DANGER to...\n",
            "15    Actually its a genderneutral practice.   Same ...\n",
            "15    A recruit dies after falling off a building be...\n",
            "Name: comment_text, dtype: object\n"
          ]
        }
      ],
      "source": [
        "# There are some comments which contain double quoted words like --> \"\"words\"\"  we will convert these to --> \"words\"\n",
        "\n",
        "cleaned_data[\"comment_text\"] = cleaned_data[\"comment_text\"].map(lambda x: re.sub(r\"\\\"\\\"\", \"\\\"\",x))   # replacing \"\" with \"\n",
        "cleaned_data[\"comment_text\"] = cleaned_data[\"comment_text\"].map(lambda x: re.sub(r\"^\\\"\", \"\",x))      # removing quotation from start and the end of the string\n",
        "cleaned_data[\"comment_text\"] = cleaned_data[\"comment_text\"].map(lambda x: re.sub(r\"\\\"$\", \"\",x))\n",
        "\n",
        "print(data.loc[15,\"comment_text\"],\"\\n\\n\")\n",
        "print(\"++++ After Removing double quotation ++++\\n\\n \")\n",
        "print(cleaned_data.loc[15,\"comment_text\"])"
      ]
    },
    {
      "cell_type": "code",
      "execution_count": null,
      "metadata": {
        "colab": {
          "base_uri": "https://localhost:8080/"
        },
        "id": "D308RiopjTdh",
        "outputId": "b9e9fe57-47d9-4f51-a754-e71cf5fe4b29"
      },
      "outputs": [
        {
          "name": "stdout",
          "output_type": "stream",
          "text": [
            "Im not gay  or black or of a religious minority or any other identifiable target group. But I do think that the union is trying to stir up trouble. \n",
            "\n",
            "\n",
            "++++ After Removing consequent special chars ++++\n",
            "\n",
            " \n",
            "Im not gay  or black or of a religious minority or any other identifiable target group. But I do think that the union is trying to stir up trouble.\n"
          ]
        }
      ],
      "source": [
        "# Removing Punctuation / Special characters (;:'\".?@!%&*+) which appears more than twice in the text\n",
        "\n",
        "cleaned_data[\"comment_text\"] = cleaned_data[\"comment_text\"].map(lambda x: re.sub(r\"[^a-zA-Z0-9\\s][^a-zA-Z0-9\\s]+\", \" \",x))\n",
        "\n",
        "print(data.loc[1871,\"comment_text\"],\"\\n\\n\")\n",
        "print(\"++++ After Removing consequent special chars ++++\\n\\n \")\n",
        "print(cleaned_data.loc[1871,\"comment_text\"])"
      ]
    },
    {
      "cell_type": "code",
      "execution_count": null,
      "metadata": {
        "colab": {
          "base_uri": "https://localhost:8080/"
        },
        "id": "cPiwgxFrju2S",
        "outputId": "a759ddba-899b-4760-8de1-11e571f6e8e9"
      },
      "outputs": [
        {
          "name": "stdout",
          "output_type": "stream",
          "text": [
            "126         Ban Muslim refugees and  I will vote for you\n",
            "126    Do Black Lives Matter when the killer is black...\n",
            "126    How is the Proud Boys belief that western whit...\n",
            "Name: comment_text, dtype: object \n",
            "\n",
            "\n",
            "++++ After Removing special chars ++++\n",
            "\n",
            " \n",
            "126         Ban Muslim refugees and  I will vote for you\n",
            "126    Do Black Lives Matter when the killer is black...\n",
            "126    How is the Proud Boys belief that western whit...\n",
            "Name: comment_text, dtype: object\n"
          ]
        }
      ],
      "source": [
        "# Removing Special characters\n",
        "\n",
        "cleaned_data[\"comment_text\"] = cleaned_data[\"comment_text\"].map(lambda x: re.sub(r\"[^a-zA-Z0-9\\s\\\"\\',:;?!.()]\", \" \",x))\n",
        "\n",
        "print(data.loc[126,\"comment_text\"],\"\\n\\n\")\n",
        "print(\"++++ After Removing special chars ++++\\n\\n \")\n",
        "print(cleaned_data.loc[126,\"comment_text\"])"
      ]
    },
    {
      "cell_type": "code",
      "execution_count": null,
      "metadata": {
        "colab": {
          "base_uri": "https://localhost:8080/"
        },
        "id": "FHIBaEAIj13u",
        "outputId": "a6d16f8d-49b6-4d65-b426-cd316159593f"
      },
      "outputs": [
        {
          "name": "stdout",
          "output_type": "stream",
          "text": [
            "126          Ban Muslim refugees and I will vote for you\n",
            "126    Do Black Lives Matter when the killer is black...\n",
            "126    How is the Proud Boys belief that western whit...\n",
            "Name: comment_text, dtype: object\n"
          ]
        }
      ],
      "source": [
        "# Removing extra spaces in text\n",
        "\n",
        "cleaned_data[\"comment_text\"] = cleaned_data[\"comment_text\"].map(lambda x: re.sub(r\"\\s\\s+\", \" \",x))\n",
        "print(cleaned_data.loc[126,\"comment_text\"])"
      ]
    },
    {
      "cell_type": "code",
      "execution_count": null,
      "metadata": {
        "id": "9SbBEB_gj4tL"
      },
      "outputs": [],
      "source": [
        "cleaned_data.reset_index(inplace=True)\n",
        "cleaned_data.drop(columns=[\"index\"], inplace=True)\n",
        "Final_data = cleaned_data.copy()"
      ]
    },
    {
      "cell_type": "code",
      "execution_count": null,
      "metadata": {
        "id": "k-sl3lAhkY_1"
      },
      "outputs": [],
      "source": [
        "from transformers import DistilBertTokenizer\n",
        "import torch\n",
        "import torch.nn as nn\n",
        "from torch.utils.data import DataLoader, Dataset\n",
        "\n",
        "# Using Pretrained DistilBertTokenizer\n",
        "tokenizer = DistilBertTokenizer.from_pretrained(\"distilbert-base-uncased\")\n",
        "\n",
        "# Creating Dataset class for Toxic comments and Labels\n",
        "class Toxic_Dataset(Dataset):\n",
        "    def __init__(self, Comments_, Labels_):\n",
        "        self.comments = Comments_.copy()\n",
        "        self.labels = Labels_.copy()\n",
        "\n",
        "        self.comments[\"comment_text\"] = self.comments[\"comment_text\"].map(lambda x: tokenizer(x, padding=\"max_length\", truncation=True, return_tensors=\"pt\", max_length = 512))\n",
        "\n",
        "    def __len__(self):\n",
        "        return len(self.labels)\n",
        "\n",
        "    def __getitem__(self, idx):\n",
        "        comment = self.comments.loc[idx,\"comment_text\"]\n",
        "        label = np.array(self.labels.loc[idx,:])\n",
        "\n",
        "        return comment, label"
      ]
    },
    {
      "cell_type": "code",
      "execution_count": null,
      "metadata": {
        "id": "StexQnpsnfl9"
      },
      "outputs": [],
      "source": [
        "from sklearn.model_selection import train_test_split"
      ]
    },
    {
      "cell_type": "code",
      "execution_count": null,
      "metadata": {
        "id": "byKbe5ZenOGs"
      },
      "outputs": [],
      "source": [
        "X_rest, X_test, Y_rest, Y_test = train_test_split(Final_data.iloc[:,0],Final_data.iloc[:,1:], test_size=0.1, stratify=Final_data.iloc[:,7])\n",
        "X_train, X_val, Y_train, Y_val = train_test_split(X_rest,Y_rest, test_size=0.1, stratify=Y_rest.iloc[:,-1])\n",
        "\n",
        "Y_test.drop(columns=[\"non_bias\",\"total_classes\"], inplace=True)\n",
        "Y_train.drop(columns=[\"non_bias\",\"total_classes\"], inplace=True)\n",
        "Y_val.drop(columns=[\"non_bias\",\"total_classes\"], inplace=True)"
      ]
    },
    {
      "cell_type": "code",
      "execution_count": null,
      "metadata": {
        "id": "THRPHO-qnaX2"
      },
      "outputs": [],
      "source": [
        "X_train = X_train.reset_index()\n",
        "X_train.drop(columns=[\"index\"], inplace=True)\n",
        "Y_train = Y_train.reset_index()\n",
        "Y_train.drop(columns=[\"index\"], inplace=True)\n",
        "X_test = X_test.reset_index()\n",
        "X_test.drop(columns=[\"index\"], inplace=True)\n",
        "Y_test = Y_test.reset_index()\n",
        "Y_test.drop(columns=[\"index\"], inplace=True)\n",
        "X_val = X_val.reset_index()\n",
        "X_val.drop(columns=[\"index\"], inplace=True)\n",
        "Y_val = Y_val.reset_index()\n",
        "Y_val.drop(columns=[\"index\"], inplace=True)"
      ]
    },
    {
      "cell_type": "code",
      "execution_count": null,
      "metadata": {
        "colab": {
          "base_uri": "https://localhost:8080/"
        },
        "id": "HgSehl8Ft6rF",
        "outputId": "3a86e684-b33a-46df-f716-7dc423ce3e8b"
      },
      "outputs": [
        {
          "data": {
            "text/plain": [
              "((8433, 1), (8433, 5), (1042, 1), (1042, 5), (937, 1), (937, 5))"
            ]
          },
          "execution_count": 96,
          "metadata": {},
          "output_type": "execute_result"
        }
      ],
      "source": [
        "X_train.shape, Y_train.shape, X_test.shape, Y_test.shape, X_val.shape, Y_val.shape"
      ]
    },
    {
      "cell_type": "code",
      "execution_count": null,
      "metadata": {
        "id": "WW3L69AYkgqf"
      },
      "outputs": [],
      "source": [
        "# Making Training, Testing and Validation of data using Dataset class\n",
        "Train_data = Toxic_Dataset(X_train, Y_train)\n",
        "Test_data = Toxic_Dataset(X_test, Y_test)\n",
        "Val_data = Toxic_Dataset(X_val, Y_val)\n",
        "\n",
        "# Making datasets into batches\n",
        "Train_Loader = DataLoader(Train_data, batch_size=32, shuffle=True)\n",
        "Test_Loader = DataLoader(Test_data, shuffle=True)        #batch_size=16,\n",
        "Val_Loader = DataLoader(Val_data, shuffle=True)          #batch_size=16,"
      ]
    },
    {
      "cell_type": "code",
      "execution_count": null,
      "metadata": {
        "colab": {
          "base_uri": "https://localhost:8080/"
        },
        "id": "1rVq5B80kwnT",
        "outputId": "961fc9b3-891b-4859-c536-6fe12c89fc38"
      },
      "outputs": [
        {
          "name": "stderr",
          "output_type": "stream",
          "text": [
            "Some weights of DistilBertForSequenceClassification were not initialized from the model checkpoint at distilbert-base-uncased and are newly initialized: ['classifier.bias', 'classifier.weight', 'pre_classifier.bias', 'pre_classifier.weight']\n",
            "You should probably TRAIN this model on a down-stream task to be able to use it for predictions and inference.\n"
          ]
        }
      ],
      "source": [
        "# DistilBERT\n",
        "\n",
        "from transformers import DistilBertForSequenceClassification\n",
        "\n",
        "Distil_bert = DistilBertForSequenceClassification.from_pretrained(\"distilbert-base-uncased\")\n",
        "\n",
        "Distil_bert.classifier = nn.Sequential(\n",
        "                    nn.Linear(768,5),\n",
        "                    nn.Sigmoid()\n",
        "                  )\n",
        "# print(Distil_bert)"
      ]
    },
    {
      "cell_type": "code",
      "execution_count": null,
      "metadata": {
        "id": "7nTtC05Nk07G"
      },
      "outputs": [],
      "source": [
        "from torch.optim import Adam\n",
        "from tqdm import tqdm\n",
        "from torch.nn import BCELoss\n",
        "from torch.optim.lr_scheduler import StepLR\n",
        "\n",
        "def train_Model(model,Train_DL, Val_DL, learning_rate, epochs):\n",
        "\n",
        "    device = torch.device('cuda' if torch.cuda.is_available() else 'cpu')\n",
        "\n",
        "    Loss = BCELoss()\n",
        "    Optimizer = Adam(params=model.parameters(), lr=learning_rate)\n",
        "    scheduler = StepLR(Optimizer, step_size=212, gamma=0.1)\n",
        "\n",
        "    model.to(device)\n",
        "    model.train()\n",
        "\n",
        "    train_acc_epochs = []\n",
        "    train_loss_epochs = []\n",
        "    val_acc_epochs = []\n",
        "    val_loss_epochs = []\n",
        "\n",
        "    for epoch in range(epochs):\n",
        "        training_loss = {}\n",
        "        training_accuracy = {}\n",
        "        validation_loss = {}\n",
        "        validation_accuracy = {}\n",
        "        batch = 0\n",
        "\n",
        "        for comments, labels in tqdm(Train_DL):\n",
        "\n",
        "            labels = labels.to(device)\n",
        "            labels = labels.float()\n",
        "            masks = comments[\"attention_mask\"].squeeze(1).to(device)\n",
        "            input_ids = comments[\"input_ids\"].squeeze(1).to(device)\n",
        "\n",
        "            output = model(input_ids, masks)\n",
        "            loss = Loss(output.logits, labels)\n",
        "\n",
        "            Optimizer.zero_grad()\n",
        "            loss.backward()\n",
        "            Optimizer.step()\n",
        "            scheduler.step()\n",
        "\n",
        "\n",
        "            batch += 1\n",
        "            if batch%64 == 0:\n",
        "                with torch.no_grad():\n",
        "                    acc = []\n",
        "                    op = output.logits\n",
        "                    for lb in range(len(labels)):\n",
        "                        correct = 0\n",
        "                        for i in range(len(labels[lb])):\n",
        "                            res = 1 if op[lb,i]>0.5 else 0\n",
        "                            if res == labels[lb,i]:\n",
        "                                correct += 1\n",
        "                        acc.append(correct/len(labels[lb]))\n",
        "\n",
        "                    training_loss[batch] = loss.item()\n",
        "                    training_accuracy[batch] = sum(acc)/len(acc)\n",
        "                    print(f\"Epoch:{epoch+1} | batch no:{batch}/{len(Train_DL)} | Loss:{loss.item():.4f} | Accuracy:{sum(acc)/len(acc):.4f}\")\n",
        "\n",
        "                    # Testing model on validation Data\n",
        "                    accVal = []\n",
        "                    val_loss = 0\n",
        "                    for comments, labels in Val_DL:\n",
        "                        labels = labels.to(device)\n",
        "                        labels = labels.float()\n",
        "                        masks = comments[\"attention_mask\"].squeeze(1).to(device)\n",
        "                        input_ids = comments[\"input_ids\"].squeeze(1).to(device)\n",
        "\n",
        "                        output = model(input_ids, masks)\n",
        "                        loss = Loss(output.logits, labels)\n",
        "                        val_loss += loss.item()\n",
        "\n",
        "                        op = output.logits\n",
        "                        correct_val = 0\n",
        "                        for i in range(5):\n",
        "                            res = 1 if op[0,i]>0.5 else 0\n",
        "                            if res == labels[0,i]:\n",
        "                                correct_val += 1\n",
        "                        accVal.append(correct_val/5)\n",
        "\n",
        "                    validation_loss[batch] = val_loss/len(Val_DL)\n",
        "                    validation_accuracy[batch] = sum(accVal)/len(accVal)\n",
        "                    print(f\" Validation Loss:{val_loss/len(Val_DL):.4f} | Validation Accuracy:{sum(accVal)/len(accVal):.4f}\")\n",
        "\n",
        "        train_acc_epochs.append(training_accuracy)\n",
        "        train_loss_epochs.append(training_loss)\n",
        "        val_acc_epochs.append(validation_accuracy)\n",
        "        val_loss_epochs.append(validation_loss)\n",
        "\n",
        "    return train_acc_epochs, train_loss_epochs, val_acc_epochs, val_loss_epochs"
      ]
    },
    {
      "cell_type": "code",
      "execution_count": null,
      "metadata": {
        "colab": {
          "base_uri": "https://localhost:8080/"
        },
        "id": "vu_zzgpMk2jy",
        "outputId": "0030d6c1-be62-41de-d9bd-df1b6bce4543"
      },
      "outputs": [
        {
          "name": "stderr",
          "output_type": "stream",
          "text": [
            " 20%|█▉        | 52/264 [01:10<04:49,  1.36s/it]"
          ]
        },
        {
          "name": "stdout",
          "output_type": "stream",
          "text": [
            "Epoch:1 | batch no:53/264 | Loss:0.0733 | Accuracy:0.9750\n"
          ]
        },
        {
          "name": "stderr",
          "output_type": "stream",
          "text": [
            "\r 20%|██        | 53/264 [01:30<23:58,  6.82s/it]"
          ]
        },
        {
          "name": "stdout",
          "output_type": "stream",
          "text": [
            " Validation Loss:0.1119 | Validation Accuracy:0.9565\n"
          ]
        },
        {
          "name": "stderr",
          "output_type": "stream",
          "text": [
            " 40%|███▉      | 105/264 [02:41<03:38,  1.38s/it]"
          ]
        },
        {
          "name": "stdout",
          "output_type": "stream",
          "text": [
            "Epoch:1 | batch no:106/264 | Loss:0.1415 | Accuracy:0.9563\n"
          ]
        },
        {
          "name": "stderr",
          "output_type": "stream",
          "text": [
            "\r 40%|████      | 106/264 [03:02<19:15,  7.31s/it]"
          ]
        },
        {
          "name": "stdout",
          "output_type": "stream",
          "text": [
            " Validation Loss:0.1119 | Validation Accuracy:0.9573\n"
          ]
        },
        {
          "name": "stderr",
          "output_type": "stream",
          "text": [
            " 60%|█████▉    | 158/264 [04:12<02:26,  1.38s/it]"
          ]
        },
        {
          "name": "stdout",
          "output_type": "stream",
          "text": [
            "Epoch:1 | batch no:159/264 | Loss:0.0774 | Accuracy:0.9688\n"
          ]
        },
        {
          "name": "stderr",
          "output_type": "stream",
          "text": [
            "\r 60%|██████    | 159/264 [04:32<12:03,  6.89s/it]"
          ]
        },
        {
          "name": "stdout",
          "output_type": "stream",
          "text": [
            " Validation Loss:0.1148 | Validation Accuracy:0.9556\n"
          ]
        },
        {
          "name": "stderr",
          "output_type": "stream",
          "text": [
            " 80%|███████▉  | 211/264 [05:42<01:13,  1.38s/it]"
          ]
        },
        {
          "name": "stdout",
          "output_type": "stream",
          "text": [
            "Epoch:1 | batch no:212/264 | Loss:0.1198 | Accuracy:0.9688\n"
          ]
        },
        {
          "name": "stderr",
          "output_type": "stream",
          "text": [
            "\r 80%|████████  | 212/264 [06:02<05:57,  6.88s/it]"
          ]
        },
        {
          "name": "stdout",
          "output_type": "stream",
          "text": [
            " Validation Loss:0.1139 | Validation Accuracy:0.9560\n"
          ]
        },
        {
          "name": "stderr",
          "output_type": "stream",
          "text": [
            "100%|██████████| 264/264 [07:12<00:00,  1.64s/it]\n",
            " 20%|█▉        | 52/264 [01:10<04:51,  1.38s/it]"
          ]
        },
        {
          "name": "stdout",
          "output_type": "stream",
          "text": [
            "Epoch:2 | batch no:53/264 | Loss:0.1311 | Accuracy:0.9438\n"
          ]
        },
        {
          "name": "stderr",
          "output_type": "stream",
          "text": [
            "\r 20%|██        | 53/264 [01:30<24:11,  6.88s/it]"
          ]
        },
        {
          "name": "stdout",
          "output_type": "stream",
          "text": [
            " Validation Loss:0.1140 | Validation Accuracy:0.9562\n"
          ]
        },
        {
          "name": "stderr",
          "output_type": "stream",
          "text": [
            " 40%|███▉      | 105/264 [02:41<03:39,  1.38s/it]"
          ]
        },
        {
          "name": "stdout",
          "output_type": "stream",
          "text": [
            "Epoch:2 | batch no:106/264 | Loss:0.1199 | Accuracy:0.9438\n"
          ]
        },
        {
          "name": "stderr",
          "output_type": "stream",
          "text": [
            "\r 40%|████      | 106/264 [03:00<18:08,  6.89s/it]"
          ]
        },
        {
          "name": "stdout",
          "output_type": "stream",
          "text": [
            " Validation Loss:0.1136 | Validation Accuracy:0.9560\n"
          ]
        },
        {
          "name": "stderr",
          "output_type": "stream",
          "text": [
            " 60%|█████▉    | 158/264 [04:11<02:26,  1.38s/it]"
          ]
        },
        {
          "name": "stdout",
          "output_type": "stream",
          "text": [
            "Epoch:2 | batch no:159/264 | Loss:0.0890 | Accuracy:0.9688\n"
          ]
        },
        {
          "name": "stderr",
          "output_type": "stream",
          "text": [
            "\r 60%|██████    | 159/264 [04:30<12:01,  6.87s/it]"
          ]
        },
        {
          "name": "stdout",
          "output_type": "stream",
          "text": [
            " Validation Loss:0.1142 | Validation Accuracy:0.9560\n"
          ]
        },
        {
          "name": "stderr",
          "output_type": "stream",
          "text": [
            " 80%|███████▉  | 211/264 [05:41<01:13,  1.38s/it]"
          ]
        },
        {
          "name": "stdout",
          "output_type": "stream",
          "text": [
            "Epoch:2 | batch no:212/264 | Loss:0.0689 | Accuracy:0.9750\n"
          ]
        },
        {
          "name": "stderr",
          "output_type": "stream",
          "text": [
            "\r 80%|████████  | 212/264 [06:00<05:58,  6.89s/it]"
          ]
        },
        {
          "name": "stdout",
          "output_type": "stream",
          "text": [
            " Validation Loss:0.1137 | Validation Accuracy:0.9552\n"
          ]
        },
        {
          "name": "stderr",
          "output_type": "stream",
          "text": [
            "100%|██████████| 264/264 [07:11<00:00,  1.63s/it]\n"
          ]
        }
      ],
      "source": [
        "# Training Model\n",
        "TA, TL, VA, VL = train_Model(Distil_bert, Train_Loader, Val_Loader, learning_rate=0.00002, epochs=2)"
      ]
    },
    {
      "cell_type": "code",
      "execution_count": null,
      "metadata": {
        "colab": {
          "base_uri": "https://localhost:8080/"
        },
        "id": "rE8eAIwrk9aO",
        "outputId": "0190753b-ef8b-4b97-b0b2-3d30a4e82f04"
      },
      "outputs": [
        {
          "name": "stdout",
          "output_type": "stream",
          "text": [
            "Testing Dataset:\n",
            "\n",
            " Test Loss:0.1151 | Test Accuracy:0.9582\n"
          ]
        }
      ],
      "source": [
        "# Evaluating model on Test data\n",
        "TrueP = [0]*6\n",
        "FalseP = [0]*6\n",
        "TrueN = [0]*6\n",
        "FalseN = [0]*6\n",
        "def Evaluate_Model(model,Test_DL):\n",
        "\n",
        "    device = torch.device('cuda' if torch.cuda.is_available() else 'cpu')\n",
        "    Loss = BCELoss()\n",
        "    model.to(device)\n",
        "    model.eval()\n",
        "\n",
        "    accTest = []\n",
        "    Test_loss = 0\n",
        "\n",
        "    for comments, labels in Test_DL:\n",
        "        labels = labels.to(device)\n",
        "        labels = labels.float()\n",
        "        masks = comments[\"attention_mask\"].squeeze(1).to(device)\n",
        "        input_ids = comments[\"input_ids\"].squeeze(1).to(device)\n",
        "\n",
        "        output = model(input_ids, masks)\n",
        "        loss = Loss(output.logits, labels)\n",
        "        Test_loss += loss.item()\n",
        "\n",
        "        op = output.logits\n",
        "        correct_val = 0\n",
        "        pred_bias = orig_bias = 0\n",
        "        for i in range(5):\n",
        "            res = 1 if op[0,i]>0.5 else 0\n",
        "            if(res == 1):\n",
        "              pred_bias = 1\n",
        "            if(labels[0, i] == 1):\n",
        "              orig_bias = 1\n",
        "            if res == labels[0,i]:\n",
        "                correct_val += 1\n",
        "            if res == 1 and labels[0,i] == 1:\n",
        "              TrueP[i]+=1\n",
        "            elif res == 1 and labels[0,i] == 0:\n",
        "              FalseP[i]+=1\n",
        "            elif res == 0 and labels[0,i] == 1:\n",
        "              FalseN[i]+=1\n",
        "            else:\n",
        "              TrueN[i]+=1\n",
        "        accTest.append(correct_val/5)\n",
        "        if (pred_bias == 1) and (orig_bias == 1):\n",
        "          TrueP[5]+=1\n",
        "        elif (pred_bias == 1) and (orig_bias == 0):\n",
        "          FalseP[5]+=1\n",
        "        elif pred_bias == 0 and orig_bias == 1:\n",
        "          FalseN[5]+=1\n",
        "        else:\n",
        "          TrueN[5]+=1\n",
        "\n",
        "    print(\"Testing Dataset:\\n\")\n",
        "    print(f\" Test Loss:{Test_loss/len(Test_DL):.4f} | Test Accuracy:{sum(accTest)/len(accTest):.4f}\")\n",
        "\n",
        "Evaluate_Model(Distil_bert, Test_Loader)"
      ]
    },
    {
      "cell_type": "code",
      "execution_count": null,
      "metadata": {
        "id": "wOYjWJpOtMq2"
      },
      "outputs": [],
      "source": [
        "def generateReport(index):\n",
        "  print(f'True Positive: {TrueP[index]} | True Negative: {TrueN[index]} | False Positive: {FalseP[index]} | False Negative: {FalseN[index]}')\n",
        "  if(TrueP[index]+FalseP[index] == 0):\n",
        "    precision = 1\n",
        "  else:\n",
        "    precision = TrueP[index]/(TrueP[index]+FalseP[index])\n",
        "  if(TrueP[index]+FalseN[index] == 0):\n",
        "    recall = 1\n",
        "  else:\n",
        "    recall = TrueP[index]/(TrueP[index]+FalseN[index])\n",
        "  f1 = (2*precision*recall)/(precision+recall)\n",
        "  accuracy = (TrueP[index]+TrueN[index])/(TrueP[index]+TrueN[index]+FalseP[index]+FalseN[index])\n",
        "  print(f'Precision: {precision:.4f} | recall: {recall:.4f} | f1: {f1:.4f} | accuracy: {accuracy:.4f}')"
      ]
    },
    {
      "cell_type": "code",
      "execution_count": null,
      "metadata": {
        "colab": {
          "base_uri": "https://localhost:8080/"
        },
        "id": "F_5PLT55sgpd",
        "outputId": "abbcdef8-726f-4ae7-bca2-e118551ccade"
      },
      "outputs": [
        {
          "name": "stdout",
          "output_type": "stream",
          "text": [
            "Bias\n",
            "True Positive: 404 | True Negative: 506 | False Positive: 101 | False Negative: 31\n",
            "Precision: 0.8000 | recall: 0.9287 | f1: 0.8596 | accuracy: 0.8733\n",
            "\n",
            "\n",
            "Race\n",
            "True Positive: 220 | True Negative: 746 | False Positive: 65 | False Negative: 11\n",
            "Precision: 0.7719 | recall: 0.9524 | f1: 0.8527 | accuracy: 0.9271\n",
            "\n",
            "\n",
            "Gender\n",
            "True Positive: 140 | True Negative: 840 | False Positive: 47 | False Negative: 15\n",
            "Precision: 0.7487 | recall: 0.9032 | f1: 0.8187 | accuracy: 0.9405\n",
            "\n",
            "\n",
            "Religion\n",
            "True Positive: 1 | True Negative: 1009 | False Positive: 0 | False Negative: 32\n",
            "Precision: 1.0000 | recall: 0.0303 | f1: 0.0588 | accuracy: 0.9693\n",
            "\n",
            "\n",
            "LGBTQ\n",
            "True Positive: 41 | True Negative: 973 | False Positive: 15 | False Negative: 13\n",
            "Precision: 0.7321 | recall: 0.7593 | f1: 0.7455 | accuracy: 0.9731\n",
            "\n",
            "\n",
            "Political\n",
            "True Positive: 0 | True Negative: 1022 | False Positive: 0 | False Negative: 20\n",
            "Precision: 1.0000 | recall: 0.0000 | f1: 0.0000 | accuracy: 0.9808\n"
          ]
        }
      ],
      "source": [
        "print(\"Bias\")\n",
        "generateReport(5)\n",
        "\n",
        "print(\"\\n\\nRace\")\n",
        "generateReport(0)\n",
        "\n",
        "print(\"\\n\\nGender\")\n",
        "generateReport(1)\n",
        "\n",
        "print(\"\\n\\nReligion\")\n",
        "generateReport(2)\n",
        "\n",
        "print(\"\\n\\nLGBTQ\")\n",
        "generateReport(3)\n",
        "\n",
        "print(\"\\n\\nPolitical\")\n",
        "generateReport(4)\n"
      ]
    },
    {
      "cell_type": "code",
      "execution_count": null,
      "metadata": {
        "id": "UzwduiJu4BvE"
      },
      "outputs": [],
      "source": [
        "# from google.colab import drive\n",
        "# drive.mount('/content/drive')"
      ]
    },
    {
      "cell_type": "code",
      "execution_count": null,
      "metadata": {
        "id": "OwfkmhVfwDoc"
      },
      "outputs": [],
      "source": [
        "# import matlplotlib.pyplot as plt"
      ]
    },
    {
      "cell_type": "code",
      "execution_count": null,
      "metadata": {
        "colab": {
          "base_uri": "https://localhost:8080/",
          "height": 1000
        },
        "id": "WmB_58i8lFkJ",
        "outputId": "654853d3-1610-4f61-cc7c-ce9e0a39380a"
      },
      "outputs": [
        {
          "data": {
            "image/png": "[encoded data removed]",
            "text/plain": [
              "<Figure size 2000x1400 with 4 Axes>"
            ]
          },
          "metadata": {},
          "output_type": "display_data"
        }
      ],
      "source": [
        "def Acc_Loss_Plot(TA1, TA2, TL1, TL2, VA1, VA2, VL1, VL2):\n",
        "    plt.figure(figsize=(20,14))\n",
        "    Ac = plt.subplot(2,2,1)\n",
        "    plt.plot(TA1.keys(), TA1.values())\n",
        "    plt.plot(TA2.keys(), TA2.values())\n",
        "    Ac.set_xlabel(\"Step Number\", fontsize=15)\n",
        "    Ac.set_ylabel(\"Accuracy\", fontsize=15)\n",
        "    Ac.set_title(\"Training Accuracy\", fontsize=20)\n",
        "    Ac.legend([\"Epoch 1\",\"Epoch 2\"])\n",
        "\n",
        "    Ls = plt.subplot(2,2,2)\n",
        "    plt.plot(TL1.keys(), TL1.values())\n",
        "    plt.plot(TL2.keys(), TL2.values())\n",
        "    Ls.set_xlabel(\"Step Number\", fontsize=15)\n",
        "    Ls.set_ylabel(\"Loss\", fontsize=15)\n",
        "    Ls.set_title(\"Training Loss\", fontsize=20)\n",
        "    Ls.legend([\"Epoch 1\",\"Epoch 2\"])\n",
        "\n",
        "    VAc = plt.subplot(2,2,3)\n",
        "    plt.plot(VA1.keys(), VA1.values())\n",
        "    plt.plot(VA2.keys(), VA2.values())\n",
        "    VAc.set_xlabel(\"Step Number\", fontsize=15)\n",
        "    VAc.set_ylabel(\"Accuracy\", fontsize=15)\n",
        "    VAc.set_title(\"Validation Accuracy\", fontsize=20)\n",
        "    VAc.legend([\"Epoch 1\",\"Epoch 2\"])\n",
        "\n",
        "    VLs = plt.subplot(2,2,4)\n",
        "    plt.plot(VL1.keys(), VL1.values())\n",
        "    plt.plot(VL2.keys(), VL2.values())\n",
        "    VLs.set_xlabel(\"Step Number\", fontsize=15)\n",
        "    VLs.set_ylabel(\"Loss\", fontsize=15)\n",
        "    VLs.set_title(\"Validation Loss\", fontsize=20)\n",
        "    VLs.legend([\"Epoch 1\",\"Epoch 2\"])\n",
        "\n",
        "Acc_Loss_Plot(TA[0], TA[1], TL[0], TL[1], VA[0], VA[1], VL[0], VL[1])"
      ]
    },
    {
      "cell_type": "code",
      "execution_count": null,
      "metadata": {
        "id": "I7dqKWxhlJhB"
      },
      "outputs": [],
      "source": [
        "# Saving model\n",
        "\n",
        "torch.save(Distil_bert,\"/content/dsbert_toxic_aug.pt\")"
      ]
    },
    {
      "cell_type": "code",
      "execution_count": null,
      "metadata": {
        "id": "vj46BDc8ycCL"
      },
      "outputs": [],
      "source": []
    }
  ],
  "metadata": {
    "accelerator": "GPU",
    "colab": {
      "gpuType": "T4",
      "provenance": []
    },
    "kernelspec": {
      "display_name": "Python 3",
      "name": "python3"
    },
    "language_info": {
      "name": "python"
    }
  },
  "nbformat": 4,
  "nbformat_minor": 0
}
